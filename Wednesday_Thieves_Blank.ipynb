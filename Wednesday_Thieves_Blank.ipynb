{
 "cells": [
  {
   "cell_type": "markdown",
   "metadata": {},
   "source": [
    "# Data Collections 2 (Dictionaries, Sets) and Importing Modules"
   ]
  },
  {
   "cell_type": "markdown",
   "metadata": {},
   "source": [
    "## Tasks Today:\n",
    "\n",
    "1) Dictionary <br>\n",
    " &nbsp;&nbsp;&nbsp;&nbsp; a) Declaring (key, value) <br>\n",
    " &nbsp;&nbsp;&nbsp;&nbsp; b) Accessing Values <br>\n",
    " &nbsp;&nbsp;&nbsp;&nbsp; ------ Exercise #1 - Print the eye color of each person in a double nested dict <br>\n",
    " &nbsp;&nbsp;&nbsp;&nbsp; c) Adding New Pairs <br>\n",
    " &nbsp;&nbsp;&nbsp;&nbsp; d) Modifying Values <br>\n",
    " &nbsp;&nbsp;&nbsp;&nbsp; e) Removing Key, Value Pairs <br>\n",
    " &nbsp;&nbsp;&nbsp;&nbsp; f) Looping a Dictionary <br>\n",
    " &nbsp;&nbsp;&nbsp;&nbsp; g) Looping Only Keys <br>\n",
    " &nbsp;&nbsp;&nbsp;&nbsp; h) Looping Only Values <br>\n",
    " &nbsp;&nbsp;&nbsp;&nbsp; ------ Exercise #2 - Create a Function that Prints All Key Value Pairs within a print .format()  <br>\n",
    " &nbsp;&nbsp;&nbsp;&nbsp; i) sorted() <br>\n",
    " &nbsp;&nbsp;&nbsp;&nbsp; j) Lists with Dictionaries <br>\n",
    " &nbsp;&nbsp;&nbsp;&nbsp; k) Dictionaries with Lists <br>\n",
    " &nbsp;&nbsp;&nbsp;&nbsp; l) Dictionaries with Dictionaries <br>\n",
    " &nbsp;&nbsp;&nbsp;&nbsp; ------ Exercise #3 - Write a Function that asks someone's name and address, and then stores that into a dictionary, which prints all names and addresses after they're done putting information in...  <br>\n",
    "2) Dictionaries vs. Lists (over time)<br>\n",
    "3) Set <br>\n",
    " &nbsp;&nbsp;&nbsp;&nbsp; a) Declaring <br>\n",
    " &nbsp;&nbsp;&nbsp;&nbsp; b) .add() <br>\n",
    " &nbsp;&nbsp;&nbsp;&nbsp; c) .remove() <br>\n",
    " &nbsp;&nbsp;&nbsp;&nbsp; d) .union() <br>\n",
    " &nbsp;&nbsp;&nbsp;&nbsp; e) .intersection() <br>\n",
    " &nbsp;&nbsp;&nbsp;&nbsp; f) .difference() <br>\n",
    " &nbsp;&nbsp;&nbsp;&nbsp; g) Frozen Set <br>\n",
    "4) Modules <br>\n",
    " &nbsp;&nbsp;&nbsp;&nbsp; a) Importing Entire Modules <br>\n",
    " &nbsp;&nbsp;&nbsp;&nbsp; b) Importing Methods Only <br>\n",
    " &nbsp;&nbsp;&nbsp;&nbsp; c) Using the 'as' Keyword <br>\n",
    " &nbsp;&nbsp;&nbsp;&nbsp; d) Creating a Module <br>\n",
    "5) Exercises <br>\n",
    " &nbsp;&nbsp;&nbsp;&nbsp; a) Build a Shopping Cart <br>\n",
    " &nbsp;&nbsp;&nbsp;&nbsp; b) Create Your Own Module <br>"
   ]
  },
  {
   "cell_type": "markdown",
   "metadata": {},
   "source": [
    "## Dictionary <br>\n",
    "<p>A collection of data with 'key:value' pairs. Dictionaries are ordered as of Python 3.6</p>"
   ]
  },
  {
   "cell_type": "markdown",
   "metadata": {},
   "source": [
    "##### Declaring (key, value)"
   ]
  },
  {
   "cell_type": "code",
   "execution_count": 1,
   "metadata": {},
   "outputs": [
    {
     "name": "stdout",
     "output_type": "stream",
     "text": [
      "{'username': 'Dylank', 'password': 'IloveMyDog', 'fav_color': 'green'}\n"
     ]
    }
   ],
   "source": [
    "new_dict = {}\n",
    "new_dict2 = dict()\n",
    "\n",
    "user = { 'username': 'Dylank', 'password': 'IloveMyDog', 'fav_color' : 'green'}\n",
    "\n",
    "print(user) "
   ]
  },
  {
   "cell_type": "markdown",
   "metadata": {},
   "source": [
    "##### Accessing Values"
   ]
  },
  {
   "cell_type": "code",
   "execution_count": 2,
   "metadata": {},
   "outputs": [
    {
     "name": "stdout",
     "output_type": "stream",
     "text": [
      "Dylank\n",
      "green\n"
     ]
    }
   ],
   "source": [
    "print(user['username'])\n",
    "print(user['fav_color'])\n"
   ]
  },
  {
   "cell_type": "markdown",
   "metadata": {},
   "source": [
    "## In-Class Exercise #1 - Print a formatted statement from the dictionary below <br>\n",
    "<p>The output should be '2018 Chevrolet Silverado'</p>"
   ]
  },
  {
   "cell_type": "code",
   "execution_count": 8,
   "metadata": {},
   "outputs": [
    {
     "name": "stdout",
     "output_type": "stream",
     "text": [
      "I have a 2018 Chevrolet Silverado\n"
     ]
    }
   ],
   "source": [
    "# use the dict below\n",
    "truck = {\n",
    "    'year': 2018,\n",
    "    'make': 'Chevrolet',\n",
    "    'model': 'Silverado'\n",
    "}\n",
    "\n",
    "\n",
    "print(f\"{truck['year']} {truck['make']} {truck['model']}\")\n"
   ]
  },
  {
   "cell_type": "markdown",
   "metadata": {},
   "source": [
    "##### Adding New Pairs"
   ]
  },
  {
   "cell_type": "code",
   "execution_count": 9,
   "metadata": {},
   "outputs": [
    {
     "name": "stdout",
     "output_type": "stream",
     "text": [
      "{'username': 'Dylank', 'password': 'Ilovemydog', 'fav_color': 'green', 'fave_food': 'Tacos'}\n"
     ]
    }
   ],
   "source": [
    "user = {\n",
    "    'username' : 'Dylank',\n",
    "    'password' : 'Ilovemydog',\n",
    "    'fav_color' : 'green'\n",
    "}\n",
    "user ['fave_food'] = 'Tacos'\n",
    "\n",
    "print(user)"
   ]
  },
  {
   "cell_type": "markdown",
   "metadata": {},
   "source": [
    "##### Modifying Values"
   ]
  },
  {
   "cell_type": "code",
   "execution_count": 10,
   "metadata": {},
   "outputs": [
    {
     "name": "stdout",
     "output_type": "stream",
     "text": [
      "{'username': 'Hurricane', 'password': 'Ilovemydog', 'fav_color': 'green', 'fave_food': 'Tacos'}\n"
     ]
    }
   ],
   "source": [
    "user['username'] = 'Hurricane'\n",
    "\n",
    "print(user)"
   ]
  },
  {
   "cell_type": "markdown",
   "metadata": {},
   "source": [
    "##### Removing Key, Value Pairs"
   ]
  },
  {
   "cell_type": "code",
   "execution_count": 11,
   "metadata": {},
   "outputs": [
    {
     "name": "stdout",
     "output_type": "stream",
     "text": [
      "{'username': 'Hurricane', 'password': 'Ilovemydog', 'fave_food': 'Tacos'}\n"
     ]
    }
   ],
   "source": [
    "del user['fav_color']\n",
    "\n",
    "print(user)"
   ]
  },
  {
   "cell_type": "markdown",
   "metadata": {},
   "source": [
    "##### Looping a Dictionary"
   ]
  },
  {
   "cell_type": "code",
   "execution_count": 13,
   "metadata": {},
   "outputs": [
    {
     "name": "stdout",
     "output_type": "stream",
     "text": [
      "My username is Dylank\n",
      "My password is Ilovemydog\n",
      "My fav_color is green\n"
     ]
    }
   ],
   "source": [
    "# .items()\n",
    "\n",
    "user = {\n",
    "    'username' : 'Dylank',\n",
    "    'password' : 'Ilovemydog',\n",
    "    'fav_color' : 'green'\n",
    "}\n",
    "\n",
    "# for key, value in user.items(): #make sure too attach the .items()\n",
    "#     print(f'My {key} is {value}')\n",
    "\n",
    "for k, v in user.items(): #make sure too attach the .items()\n",
    "    print(f'My {k} is {v}')"
   ]
  },
  {
   "cell_type": "markdown",
   "metadata": {},
   "source": [
    "##### Looping Only Keys"
   ]
  },
  {
   "cell_type": "code",
   "execution_count": 14,
   "metadata": {},
   "outputs": [
    {
     "name": "stdout",
     "output_type": "stream",
     "text": [
      "username\n",
      "password\n",
      "fav_color\n"
     ]
    }
   ],
   "source": [
    "# .keys()\n",
    "\n",
    "for key in user.keys():# spell out .keys\n",
    "\n",
    "    print(key)"
   ]
  },
  {
   "cell_type": "markdown",
   "metadata": {},
   "source": [
    "##### Looping Only Values"
   ]
  },
  {
   "cell_type": "code",
   "execution_count": 15,
   "metadata": {},
   "outputs": [
    {
     "name": "stdout",
     "output_type": "stream",
     "text": [
      "Dylank\n",
      "Ilovemydog\n",
      "green\n"
     ]
    }
   ],
   "source": [
    "# .values()\n",
    "\n",
    "for v in user.values():#spell out. values\n",
    "    print(v)\n"
   ]
  },
  {
   "cell_type": "markdown",
   "metadata": {},
   "source": [
    "## In-Class Exercise #2 - Create a Function that Prints All Key Value Pairs within a print .format() <br>\n",
    "<p><b>Output should be:</b><br>\n",
    "Max has blue eyes<br>\n",
    "Lilly has brown eyes<br>\n",
    "Barney has blue eyes<br>\n",
    "etc.\n",
    "</p>"
   ]
  },
  {
   "cell_type": "code",
   "execution_count": 19,
   "metadata": {},
   "outputs": [
    {
     "name": "stdout",
     "output_type": "stream",
     "text": [
      "Max has blue eyes\n",
      "Lilly has brown eyes\n",
      "Barney has blue eyes\n",
      "Larney has brown eyes\n",
      "Ted has purple eyes\n"
     ]
    }
   ],
   "source": [
    "# use the dict below\n",
    "\n",
    "people = {\n",
    "    'Max': 'blue',\n",
    "    'Lilly': 'brown',\n",
    "    'Barney': 'blue',\n",
    "    'Larney': 'brown',\n",
    "    'Ted': 'purple'\n",
    "}\n",
    "\n",
    "for key, value in people.items(): \n",
    "    print(f'{key} has {value} eyes')\n"
   ]
  },
  {
   "cell_type": "markdown",
   "metadata": {},
   "source": [
    "##### sorted()"
   ]
  },
  {
   "cell_type": "code",
   "execution_count": 23,
   "metadata": {},
   "outputs": [
    {
     "name": "stdout",
     "output_type": "stream",
     "text": [
      "[('Barney', 'blue'), ('Larney', 'brown'), ('Lilly', 'brown'), ('Max', 'blue'), ('Ted', 'purple')]\n",
      "{'Max': 'blue', 'Lilly': 'brown', 'Barney': 'blue', 'Larney': 'brown', 'Ted': 'purple'}\n"
     ]
    }
   ],
   "source": [
    "# sorts variables in order\n",
    "# sorted(dict.values()) or dict.keys() or dict.items()\n",
    "\n",
    "people = {\n",
    "    'Max': 'blue',\n",
    "    'Lilly': 'brown',\n",
    "    'Barney': 'blue',\n",
    "    'Larney': 'brown',\n",
    "    'Ted': 'purple'\n",
    "}\n",
    "\n",
    "# sorted(people)\n",
    "# new_people =  sorted(people)\n",
    "\n",
    "new_people = sorted(people.items())\n",
    "\n",
    "print(new_people)\n",
    "\n",
    "# people.sort()\n",
    "\n",
    "print(people)\n"
   ]
  },
  {
   "cell_type": "markdown",
   "metadata": {},
   "source": [
    "##### List with Dictionaries"
   ]
  },
  {
   "cell_type": "code",
   "execution_count": 28,
   "metadata": {},
   "outputs": [
    {
     "name": "stdout",
     "output_type": "stream",
     "text": [
      "Dylan\n",
      "y\n"
     ]
    }
   ],
   "source": [
    "Thieves = ['Marcos', 'Sam', 'Jake', 'Justin', {'ins1' : 'Christian', 'ins2' : 'Dylan'}]\n",
    "\n",
    "print(Thieves[-1]['ins2'])\n",
    "print(Thieves[-1]['ins2'][1])  #going one step deeper"
   ]
  },
  {
   "cell_type": "markdown",
   "metadata": {},
   "source": [
    "##### Dictionaries with Lists"
   ]
  },
  {
   "cell_type": "code",
   "execution_count": 2,
   "metadata": {},
   "outputs": [
    {
     "name": "stdout",
     "output_type": "stream",
     "text": [
      "Sean\n",
      "Alex\n"
     ]
    }
   ],
   "source": [
    "# be careful when using numbers as keys in dictionaries, don't confuse them with indexes\n",
    "\n",
    "coding_temple = {\n",
    "    'Thieves' : ['Christian', 'Dylan'],\n",
    "    'Matrix' : ['Dylan', 'Sean'],\n",
    "    'Rangers' : ['Alex', 'Brendan'],\n",
    "}\n",
    "\n",
    "print(coding_temple['Matrix'][1]) \n",
    "print(coding_temple['Rangers'][0])\n"
   ]
  },
  {
   "cell_type": "markdown",
   "metadata": {},
   "source": [
    "##### Dictionaries with Dictionaries"
   ]
  },
  {
   "cell_type": "code",
   "execution_count": 31,
   "metadata": {},
   "outputs": [
    {
     "name": "stdout",
     "output_type": "stream",
     "text": [
      "0.00\n"
     ]
    }
   ],
   "source": [
    "# to get values, must traverse through keys\n",
    "\n",
    "restaurant = {\n",
    "    'Food Menu':{\n",
    "        'Salad': '8.00',\n",
    "        'Buger' : '18.00',\n",
    "    },\n",
    "    'Drink Menu' :{\n",
    "        'water' : '100.00',\n",
    "        'whiskey' : '0.00',\n",
    "    }\n",
    "}\n",
    "\n",
    "\n",
    "print(restaurant['Drink Menu']['whiskey'])\n",
    "\n"
   ]
  },
  {
   "cell_type": "markdown",
   "metadata": {},
   "source": [
    "## Dictionaries vs. Lists (over time) Example of RUNTIME\n",
    "### When inputting values in a Dictionary vs List"
   ]
  },
  {
   "cell_type": "code",
   "execution_count": 34,
   "metadata": {},
   "outputs": [],
   "source": [
    "import time\n",
    "\n",
    "\n",
    "# generate fake dictionary\n",
    "\n",
    "d = {}\n",
    "\n",
    "for i in range(50000000):\n",
    "    d[i] = 'value'\n",
    "    \n",
    "\n",
    "# generate fake list\n",
    "big_list = [x for x in range(50000000)]"
   ]
  },
  {
   "cell_type": "code",
   "execution_count": 37,
   "metadata": {},
   "outputs": [
    {
     "name": "stdout",
     "output_type": "stream",
     "text": [
      "Elapsed time for list: 0.513601541519165\n",
      "Elapsed time for dictionary: 0.0\n"
     ]
    }
   ],
   "source": [
    "# tracking time for list\n",
    "\n",
    "start_time = time.time()\n",
    "\n",
    "if 49999999 in big_list:\n",
    "    pass\n",
    "end_time = time.time() - start_time\n",
    "\n",
    "print('Elapsed time for list: {}'.format(end_time))\n",
    "\n",
    "\n",
    "# tracking time for dictionary\n",
    "\n",
    "start_time = time.time()\n",
    "\n",
    "if 49999999 in d:\n",
    "    pass\n",
    "\n",
    "end_time = time.time() - start_time\n",
    "\n",
    "print('Elapsed time for dictionary: {}'.format(end_time))"
   ]
  },
  {
   "cell_type": "markdown",
   "metadata": {},
   "source": [
    "## Exercise #3 - Write a Function that asks someone's name and address, and then stores that into a dictionary, and continues to do so until they choose to 'quit'. Once they quit, the program should print all names and addresses. <br>\n",
    "<p>\n",
    "<b>Proper steps:</b><br>\n",
    "step 1: write a function that takes in information and stores it in a dictionary<br>\n",
    "step 2: define an empty dictionary to work with<br>\n",
    "step 3: create our loop, which asks the user for information until they quit<br>\n",
    "step 4: ask for the information, and store it into variables<br>\n",
    "step 5: check if the user types quit<br>\n",
    "step 5a: print out all information<br>\n",
    "step 5b: break out of the loop<br>\n",
    "step 6: if they didn't quit, add the information to the dictionary<br>\n",
    "step 7: invoke the function by calling it\n",
    "</p>"
   ]
  },
  {
   "cell_type": "code",
   "execution_count": 9,
   "metadata": {},
   "outputs": [
    {
     "name": "stdout",
     "output_type": "stream",
     "text": [
      "Exit the program at any time by replying 'quit'\n",
      "{'omar': 'clovis'}\n"
     ]
    }
   ],
   "source": [
    "# while loop\n",
    "# need to add dictionary \n",
    "# call the function\n",
    "\n",
    "def get_info():\n",
    "\n",
    "    info = {}\n",
    "\n",
    "    print(\"Exit the program at any time by replying 'quit'\")\n",
    "\n",
    "    while True:\n",
    "        name = input(\"What is you name?\")\n",
    "        if name == \"quit\":\n",
    "            break\n",
    "        elif name in info:\n",
    "            print('Name already in use')\n",
    "            continue\n",
    "\n",
    "        address = input(\"What is your address?\")\n",
    "        if address == \"quit\":\n",
    "            break\n",
    "\n",
    "        info[name] = address\n",
    "\n",
    "        again = input(\"Would you like to add more info? (yes/quit)\")\n",
    "        if again == 'quit' or again == 'no':\n",
    "            break\n",
    "    \n",
    "    return info\n",
    "\n",
    "print(get_info())\n",
    "\n",
    "\n"
   ]
  },
  {
   "cell_type": "markdown",
   "metadata": {},
   "source": [
    "## Set <br>\n",
    "<p>A Set is an unordered collection data type that is iterable (loop), mutable, and has no duplicate elements.<br>Major advantage is that it is highly optimized in checking if something is in the set, as opposed to checking if something is in a list.</p>"
   ]
  },
  {
   "cell_type": "markdown",
   "metadata": {},
   "source": [
    "##### Declaring"
   ]
  },
  {
   "cell_type": "code",
   "execution_count": 41,
   "metadata": {},
   "outputs": [
    {
     "name": "stdout",
     "output_type": "stream",
     "text": [
      "[1, 2, 3, 3, 3, 4, 5, 6, 7]\n",
      "[1, 2, 3, 4, 5, 6, 7]\n",
      "{1, 2, 3}\n"
     ]
    }
   ],
   "source": [
    "# set() or {}\n",
    "\n",
    "a_list = [1,2,3,3,3,4,5,6,7]\n",
    "\n",
    "print(a_list)\n",
    "# print(set(a_list))\n",
    "a_list = set(a_list)\n",
    "print(list(a_list))\n",
    "\n",
    "set_1 = set()\n",
    "set_2 = {1,2,3}\n",
    "\n",
    "print(set_2)\n"
   ]
  },
  {
   "cell_type": "markdown",
   "metadata": {},
   "source": [
    "##### .add()"
   ]
  },
  {
   "cell_type": "code",
   "execution_count": 5,
   "metadata": {},
   "outputs": [
    {
     "name": "stdout",
     "output_type": "stream",
     "text": [
      "{1, 2, 3, 'Pizza', 'pickle', 'pie'}\n"
     ]
    }
   ],
   "source": [
    "# set.add()\n",
    "\n",
    "set_2 = {1,2,3}\n",
    "\n",
    "set_2.add('Pizza')\n",
    "set_2.add('pie')\n",
    "set_2.add('pickle')\n",
    "\n",
    "print(set_2)\n"
   ]
  },
  {
   "cell_type": "markdown",
   "metadata": {},
   "source": [
    "##### .remove()"
   ]
  },
  {
   "cell_type": "code",
   "execution_count": 7,
   "metadata": {},
   "outputs": [
    {
     "name": "stdout",
     "output_type": "stream",
     "text": [
      "{1, 2, 3, 'Pizza', 'pickle', 'pie'}\n"
     ]
    }
   ],
   "source": [
    "# removes by value\n",
    "# set.remove()\n",
    "# nums.remove(56)\n",
    "\n",
    "print(set_2)\n",
    "set_2.remove('pickle')"
   ]
  },
  {
   "cell_type": "markdown",
   "metadata": {},
   "source": [
    "##### .union() "
   ]
  },
  {
   "cell_type": "code",
   "execution_count": 54,
   "metadata": {},
   "outputs": [
    {
     "name": "stdout",
     "output_type": "stream",
     "text": [
      "{1, 2, 3, 4, 5, 6, 7, 8}\n"
     ]
    }
   ],
   "source": [
    "# Returns a union of two sets, can also use '|' or set.union(set)\n",
    "# joins all numbers, gets rid of duplicates\n",
    "\n",
    "red = {1,2,3,4,5}\n",
    "blue = {4,5,6,7,8}\n",
    "\n",
    "purple = red | blue\n",
    "purple2 = red.union(blue)\n",
    "\n",
    "print(purple2)\n"
   ]
  },
  {
   "cell_type": "markdown",
   "metadata": {},
   "source": [
    "##### .intersection()"
   ]
  },
  {
   "cell_type": "code",
   "execution_count": 57,
   "metadata": {},
   "outputs": [
    {
     "name": "stdout",
     "output_type": "stream",
     "text": [
      "{4, 5}\n",
      "{4, 5}\n"
     ]
    }
   ],
   "source": [
    "# Returns an intersection of two sets, can also use '&'\n",
    "# overlaps \n",
    "# only takes similar elements from both sets\n",
    "\n",
    "red = {1,2,3,4,5}\n",
    "blue = {4,5,6,7,8}\n",
    "\n",
    "purple = red & blue\n",
    "purple2 = red.intersection(blue)\n",
    "\n",
    "print(purple)\n",
    "print(purple2)"
   ]
  },
  {
   "cell_type": "markdown",
   "metadata": {},
   "source": [
    "##### .difference()"
   ]
  },
  {
   "cell_type": "code",
   "execution_count": 56,
   "metadata": {},
   "outputs": [
    {
     "name": "stdout",
     "output_type": "stream",
     "text": [
      "{1, 2, 3}\n"
     ]
    }
   ],
   "source": [
    "# Returns a set containing all the elements of invoking set that are not in the second set, can also use '-'\n",
    "# only takes values from the first set that are not in the second set\n",
    "# order matters\n",
    "\n",
    "red = {1,2,3,4,5}\n",
    "blue = {4,5,6,7,8}\n",
    "\n",
    "purple = red.difference(blue)\n",
    "purple = blue - red\n",
    "\n",
    "print(purple)\n",
    "\n",
    "\n",
    "\n"
   ]
  },
  {
   "cell_type": "markdown",
   "metadata": {},
   "source": [
    "##### .clear()"
   ]
  },
  {
   "cell_type": "code",
   "execution_count": 58,
   "metadata": {},
   "outputs": [
    {
     "name": "stdout",
     "output_type": "stream",
     "text": [
      "set()\n"
     ]
    }
   ],
   "source": [
    "# Empties the whole set\n",
    "# set.clear()\n",
    "\n",
    "red = {1,2,3,4,5}\n",
    "\n",
    "red.clear()\n",
    "\n",
    "print(red) \n"
   ]
  },
  {
   "cell_type": "markdown",
   "metadata": {},
   "source": [
    "##### Frozenset <br>\n",
    "<p>Frozen sets are immutable objects that only support methods and operators that produce a result without affecting the frozen set or sets to which they are applied.</p><br><b>Unique & Immutable</b>"
   ]
  },
  {
   "cell_type": "code",
   "execution_count": 64,
   "metadata": {},
   "outputs": [
    {
     "name": "stdout",
     "output_type": "stream",
     "text": [
      "frozenset({1, 2, 3, 4, 5})\n",
      "frozenset({1, 2, 3})\n"
     ]
    }
   ],
   "source": [
    "# frozenset([])\n",
    "# immutable means you cannot change it\n",
    "\n",
    "red = {1,2,3,4,5}\n",
    "blue = {4,5,6,7,8}\n",
    "\n",
    "frozen_red = frozenset(red)\n",
    "\n",
    "print(frozen_red)\n",
    "\n",
    "# frozen_red.remove(10)\n",
    "# you cannot add nor remove from it, since it is immutable \n",
    "\n",
    "#when working with frozen sets you will print frozen sets\n",
    "\n",
    "purple = frozen_red - blue\n",
    "print(purple)\n"
   ]
  },
  {
   "cell_type": "markdown",
   "metadata": {},
   "source": [
    "## Modules"
   ]
  },
  {
   "cell_type": "markdown",
   "metadata": {},
   "source": [
    "##### Importing Entire Modules"
   ]
  },
  {
   "cell_type": "code",
   "execution_count": 10,
   "metadata": {},
   "outputs": [
    {
     "name": "stdout",
     "output_type": "stream",
     "text": [
      "3.141592653589793\n",
      "7\n",
      "4\n"
     ]
    }
   ],
   "source": [
    "# import\n",
    "# import math\n",
    "\n",
    "# look up useful modules for beginners \n",
    "# dive deeper into the math Module\n",
    "\n",
    "# I know its intimidating at first but always try to read, understand, and break \n",
    "# down your errors to find a solution to your problem. This is a foundational pillar to programming.\n",
    "\n",
    "import math\n",
    "print(math.pi)\n",
    "\n",
    "print(math.floor(7.89))\n",
    "\n",
    "print(math.ceil(math.pi))\n"
   ]
  },
  {
   "cell_type": "markdown",
   "metadata": {},
   "source": [
    "##### Importing Methods Only"
   ]
  },
  {
   "cell_type": "code",
   "execution_count": 69,
   "metadata": {},
   "outputs": [
    {
     "name": "stdout",
     "output_type": "stream",
     "text": [
      "7\n",
      "3.141592653589793\n"
     ]
    }
   ],
   "source": [
    "# from 'xxx' import 'xxx'\n",
    "# from math import floor\n",
    "# this would be a cleaner way to import the function from a particular module not the whole module\n",
    "\n",
    "from math import floor, pi, ceil\n",
    "\n",
    "print(floor(7.89))\n",
    "print(pi)\n",
    "\n"
   ]
  },
  {
   "cell_type": "markdown",
   "metadata": {},
   "source": [
    "##### Using the 'as' Keyword"
   ]
  },
  {
   "cell_type": "code",
   "execution_count": 72,
   "metadata": {},
   "outputs": [
    {
     "name": "stdout",
     "output_type": "stream",
     "text": [
      "8\n",
      "7\n"
     ]
    }
   ],
   "source": [
    "# from 'xxx' import 'xxx' as 'xxx' or import 'xxx' as 'xxx'\n",
    "# from math import floor as f\n",
    "\n",
    "from math import ceil as round_up, floor as round_down\n",
    "\n",
    "print(round_up(7.2))\n",
    "print(round_down(7.2))"
   ]
  },
  {
   "cell_type": "markdown",
   "metadata": {},
   "source": [
    "##### Creating a Module"
   ]
  },
  {
   "cell_type": "code",
   "execution_count": 73,
   "metadata": {},
   "outputs": [
    {
     "name": "stdout",
     "output_type": "stream",
     "text": [
      "Christian\n"
     ]
    }
   ],
   "source": [
    "# you can create a module and import it and use it here\n",
    "\n",
    "from my_module import format_user \n",
    "\n",
    "print(format_user('          ChriStiAn'))\n",
    "\n"
   ]
  },
  {
   "cell_type": "markdown",
   "metadata": {},
   "source": [
    "# Exercises"
   ]
  },
  {
   "cell_type": "markdown",
   "metadata": {},
   "source": [
    "### 1) Build a Shopping Cart <br>\n",
    "<p><b>You can use either lists or dictionaries. The program should have the following capabilities:</b><br><br>\n",
    "1) Takes in input <br>\n",
    "2) Stores user input into a dictionary or list <br>\n",
    "3) The User can add or delete items <br>\n",
    "4) The User can see current shopping list <br>\n",
    "5) The program Loops until user 'quits' <br>\n",
    "6) Upon quiting the program, print out all items in the user's list <br>\n",
    "</p>"
   ]
  },
  {
   "cell_type": "code",
   "execution_count": 5,
   "metadata": {},
   "outputs": [
    {
     "name": "stdout",
     "output_type": "stream",
     "text": [
      "I added 5 buns to your cart\n",
      "I added 4 weenies to your cart\n",
      "This is in your cart\n",
      "buns : 5\n",
      "weenies : 4\n",
      "1 weenies removed successfully\n",
      "This is in your cart\n",
      "buns : 5\n",
      "weenies : 3\n",
      "This is in your cart\n",
      "buns : 5\n",
      "weenies : 3\n"
     ]
    },
    {
     "data": {
      "text/plain": [
       "<function __main__.shopping_cart()>"
      ]
     },
     "execution_count": 5,
     "metadata": {},
     "output_type": "execute_result"
    }
   ],
   "source": [
    "# Ask the user four bits of input: Do you want to : \n",
    "# use a dictionary remember { : }\n",
    "# keep loop going until they quit - so they need option to quit\n",
    "# when you ask user to give me item, have that item as a key, and the value can be 'how many' - look at example from earlier\n",
    "# cart should have a show feature. at the top of function, show add, show, edit. options - list Show/Add/Delete or Quit\n",
    "# it will be on top of the While loop - while loop goes until user quits\n",
    "# give them the chance to see their cart - \n",
    "# example from earlier:\n",
    "        # def get_info():\n",
    "\n",
    "        #     info = {}\n",
    "\n",
    "        #     print(\"Exit the program at any time by replying 'quit'\")\n",
    "\n",
    "        #     while True:\n",
    "        #         name = input(\"What is you name?\")\n",
    "        #         if name == \"quit\":\n",
    "        #             break\n",
    "        #         elif name in info:\n",
    "        #             print('Name already in use')\n",
    "        #             continue\n",
    "\n",
    "        #         address = input(\"What is your address?\")\n",
    "        #         if address == \"quit\":\n",
    "        #             break\n",
    "\n",
    "        #         info[name] = address\n",
    "\n",
    "        #         again = input(\"Would you like to add more info? (yes/quit)\")\n",
    "        #         if again == 'quit' or again == 'no':\n",
    "        #             break\n",
    "            \n",
    "        #     return info\n",
    "\n",
    "        # print(get_info())\n",
    "\n",
    "#####scrapped and started over after watching the zoom vid with hints at the end. list of options!####\n",
    "\n",
    "# def shopping_cart ():\n",
    "\n",
    "#     cart = {}\n",
    "    \n",
    "#     print(\"Exit the program any time by replying 'quit' \")\n",
    "\n",
    "#     while True:\n",
    "#         item = input(\"Enter your item\")\n",
    "#         if item == \"quit\":\n",
    "#             break\n",
    "#         elif item in cart:\n",
    "#             print(\"Item already in cart\")\n",
    "#             continue\n",
    "\n",
    "#         quantity = int(input(\"Enter the amount\")) \n",
    "#         if quantity == \"quit\":\n",
    "#             break\n",
    "\n",
    "\n",
    "\n",
    "\n",
    "#     for item, quanity in cart.items():\n",
    "#         print('f{item} : {quantity}')\n",
    "\n",
    "# print(shopping_cart())\n",
    "\n",
    "######\n",
    "\n",
    "# def shopping_cart():\n",
    "#     cart = {}\n",
    "#     #options\n",
    "#     print(\"1. add item\")\n",
    "#     print(\"2. delete item\")\n",
    "#     print(\"3. show current shopping list\")\n",
    "#     print(\"4. quit\")\n",
    "\n",
    "#     while True:\n",
    "        \n",
    "#         option = print(\"select an option\")\n",
    "\n",
    "#         if option == \"1\":\n",
    "#             item = input(\"enter item\")\n",
    "#             quantity = int(input(\"enter the quantity\"))\n",
    "#             cart[item] = cart.get(item, 0) + quantity\n",
    "#             print(f'i added {quantity} {item} to cart')\n",
    "\n",
    "#         elif option == \"2\":\n",
    "#             item = input(\"enter item to delete\")\n",
    "#             if item in cart:\n",
    "#                 quantity \n",
    "# this just kept going and going\n",
    "\n",
    "############# error\n",
    "# Cell In[22], line 125\n",
    "#     122         elif option == \"4\":\n",
    "#     123             print(cart + \"thank you, goodbye\")\n",
    "# --> 125 print(shopping_cart())\n",
    "\n",
    "# Cell In[22], line 101, in shopping_cart()\n",
    "#      98 print(\"3. show current shopping list\")\n",
    "#      99 print(\"4. quit\")\n",
    "# --> 101 while True:\n",
    "#     103     option = (\"select an option\")\n",
    "#     105     if option == \"1\":\n",
    "\n",
    "def shopping_cart():\n",
    "    cart = {}\n",
    "\n",
    "    while True:\n",
    "        \n",
    "        option = input(\"Please choose an option: you can add, del, show, or quit\")\n",
    "\n",
    "        if option == \"add\":\n",
    "            item = input(\"Please enter item you wish to add to cart\")\n",
    "            quantity = int(input(\"enter the quantity\"))\n",
    "            cart[item] = cart.get(item, 0) + quantity\n",
    "            print(f'I added {quantity} {item} to your cart')\n",
    "\n",
    "        elif option == \"del\":\n",
    "            item = input(\"Please enter item to delete\")\n",
    "            if item in cart:\n",
    "                quantity = int(input(\"How many do you want to delete?\"))\n",
    "                cart[item] -= quantity \n",
    "                if quantity <= 0:\n",
    "                    del cart[item]\n",
    "                    \n",
    "                print(f\"{quantity} {item} removed successfully\")\n",
    "            else:\n",
    "                print(f\"{item} in not in cart\")\n",
    "        \n",
    "        # elif option == \"3\":\n",
    "        #     print(cart) # loop through list printing each item\n",
    "\n",
    "        elif option == \"show\":\n",
    "            print(\"This is in your cart\")\n",
    "            for item, quantity in cart.items():\n",
    "                print(f'{item} : {quantity}')\n",
    "\n",
    "        # elif option == \"4\":\n",
    "        #     print(str(cart) + \"thank you, goodbye\")\n",
    "\n",
    "        elif option == \"quit\":\n",
    "            print(\"This is in your cart\")\n",
    "            for item, quantity in cart.items():\n",
    "                print(f'{item} : {quantity}')\n",
    "            break\n",
    "        \n",
    "        else:\n",
    "            print(\"Invalid Response\")\n",
    "\n",
    "\n",
    "    return shopping_cart           \n",
    "\n",
    "shopping_cart()\n",
    "\n",
    "# TypeError                                 Traceback (most recent call last)\n",
    "# Cell In[25], line 138\n",
    "#     134             print(cart + \"thank you, goodbye\")\n",
    "#     136     return shopping_cart           \n",
    "# --> 138 print(shopping_cart())\n",
    "\n",
    "# Cell In[25], line 134, in shopping_cart()\n",
    "#     131         print(cart)\n",
    "#     133     elif option == \"4\":\n",
    "# --> 134         print(cart + \"thank you, goodbye\")\n",
    "#     136 return shopping_cart\n",
    "\n",
    "# TypeError: unsupported operand type(s) for +: 'dict' and 'str'\n",
    "\n",
    "        \n",
    "            \n",
    "\n",
    "\n"
   ]
  },
  {
   "cell_type": "markdown",
   "metadata": {},
   "source": [
    "### 2) Create a Module in VS Code and Import It into jupyter notebook <br>\n",
    "<p><b>Module should have the following capabilities:</b><br><br>\n",
    "1) Has a function to calculate the square footage of a house <br>\n",
    "    <b>Reminder of Formula: Length X Width == Area<br>\n",
    "        <hr>\n",
    "2) Has a function to calculate the circumference of a circle <br><br>\n",
    "<b>Program in Jupyter Notebook should take in user input and use imported functions to calculate a circle's circumference or a houses square footage</b>\n",
    "</p>"
   ]
  },
  {
   "cell_type": "code",
   "execution_count": 6,
   "metadata": {},
   "outputs": [
    {
     "ename": "KeyboardInterrupt",
     "evalue": "Interrupted by user",
     "output_type": "error",
     "traceback": [
      "\u001b[1;31m---------------------------------------------------------------------------\u001b[0m",
      "\u001b[1;31mKeyboardInterrupt\u001b[0m                         Traceback (most recent call last)",
      "Cell \u001b[1;32mIn[6], line 4\u001b[0m\n\u001b[0;32m      1\u001b[0m \u001b[39m# you will need pi. use the pi import for this one\u001b[39;00m\n\u001b[0;32m      2\u001b[0m \u001b[39m# \u001b[39;00m\n\u001b[1;32m----> 4\u001b[0m \u001b[39mfrom\u001b[39;00m \u001b[39mhw_question_module\u001b[39;00m \u001b[39mimport\u001b[39;00m square_feet_of_house \n\u001b[0;32m      6\u001b[0m \u001b[39mprint\u001b[39m(square_feet_of_house)\n",
      "File \u001b[1;32mc:\\Users\\User\\Documents\\Coding Temple\\Theives-126\\week-2\\day3\\hw_question_module.py:6\u001b[0m\n\u001b[0;32m      3\u001b[0m     room_area \u001b[39m=\u001b[39m length \u001b[39m*\u001b[39m width\n\u001b[0;32m      4\u001b[0m     \u001b[39mreturn\u001b[39;00m room_area\n\u001b[1;32m----> 6\u001b[0m length \u001b[39m=\u001b[39m \u001b[39mfloat\u001b[39m(\u001b[39minput\u001b[39;49m(\u001b[39m\"\u001b[39;49m\u001b[39menter the length in feet\u001b[39;49m\u001b[39m\"\u001b[39;49m)) \u001b[39m#int didnt work #str didnt work, process of illimination = float\u001b[39;00m\n\u001b[0;32m      7\u001b[0m width \u001b[39m=\u001b[39m \u001b[39mfloat\u001b[39m(\u001b[39minput\u001b[39m(\u001b[39m\"\u001b[39m\u001b[39menter the width in feet\u001b[39m\u001b[39m\"\u001b[39m))\n\u001b[0;32m     10\u001b[0m total_sq_ft \u001b[39m=\u001b[39m square_feet_of_house(length, width)\n",
      "File \u001b[1;32m~\\AppData\\Roaming\\Python\\Python311\\site-packages\\ipykernel\\kernelbase.py:1202\u001b[0m, in \u001b[0;36mKernel.raw_input\u001b[1;34m(self, prompt)\u001b[0m\n\u001b[0;32m   1200\u001b[0m     msg \u001b[39m=\u001b[39m \u001b[39m\"\u001b[39m\u001b[39mraw_input was called, but this frontend does not support input requests.\u001b[39m\u001b[39m\"\u001b[39m\n\u001b[0;32m   1201\u001b[0m     \u001b[39mraise\u001b[39;00m StdinNotImplementedError(msg)\n\u001b[1;32m-> 1202\u001b[0m \u001b[39mreturn\u001b[39;00m \u001b[39mself\u001b[39;49m\u001b[39m.\u001b[39;49m_input_request(\n\u001b[0;32m   1203\u001b[0m     \u001b[39mstr\u001b[39;49m(prompt),\n\u001b[0;32m   1204\u001b[0m     \u001b[39mself\u001b[39;49m\u001b[39m.\u001b[39;49m_parent_ident[\u001b[39m\"\u001b[39;49m\u001b[39mshell\u001b[39;49m\u001b[39m\"\u001b[39;49m],\n\u001b[0;32m   1205\u001b[0m     \u001b[39mself\u001b[39;49m\u001b[39m.\u001b[39;49mget_parent(\u001b[39m\"\u001b[39;49m\u001b[39mshell\u001b[39;49m\u001b[39m\"\u001b[39;49m),\n\u001b[0;32m   1206\u001b[0m     password\u001b[39m=\u001b[39;49m\u001b[39mFalse\u001b[39;49;00m,\n\u001b[0;32m   1207\u001b[0m )\n",
      "File \u001b[1;32m~\\AppData\\Roaming\\Python\\Python311\\site-packages\\ipykernel\\kernelbase.py:1245\u001b[0m, in \u001b[0;36mKernel._input_request\u001b[1;34m(self, prompt, ident, parent, password)\u001b[0m\n\u001b[0;32m   1242\u001b[0m \u001b[39mexcept\u001b[39;00m \u001b[39mKeyboardInterrupt\u001b[39;00m:\n\u001b[0;32m   1243\u001b[0m     \u001b[39m# re-raise KeyboardInterrupt, to truncate traceback\u001b[39;00m\n\u001b[0;32m   1244\u001b[0m     msg \u001b[39m=\u001b[39m \u001b[39m\"\u001b[39m\u001b[39mInterrupted by user\u001b[39m\u001b[39m\"\u001b[39m\n\u001b[1;32m-> 1245\u001b[0m     \u001b[39mraise\u001b[39;00m \u001b[39mKeyboardInterrupt\u001b[39;00m(msg) \u001b[39mfrom\u001b[39;00m \u001b[39mNone\u001b[39;00m\n\u001b[0;32m   1246\u001b[0m \u001b[39mexcept\u001b[39;00m \u001b[39mException\u001b[39;00m:\n\u001b[0;32m   1247\u001b[0m     \u001b[39mself\u001b[39m\u001b[39m.\u001b[39mlog\u001b[39m.\u001b[39mwarning(\u001b[39m\"\u001b[39m\u001b[39mInvalid Message:\u001b[39m\u001b[39m\"\u001b[39m, exc_info\u001b[39m=\u001b[39m\u001b[39mTrue\u001b[39;00m)\n",
      "\u001b[1;31mKeyboardInterrupt\u001b[0m: Interrupted by user"
     ]
    }
   ],
   "source": [
    "# you will need pi. use the pi import for this one\n",
    "# \n",
    "\n",
    "from hw_question_module import square_feet_of_house \n",
    "\n",
    "print(square_feet_of_house)\n",
    "\n",
    "\n"
   ]
  }
 ],
 "metadata": {
  "kernelspec": {
   "display_name": "Python 3",
   "language": "python",
   "name": "python3"
  },
  "language_info": {
   "codemirror_mode": {
    "name": "ipython",
    "version": 3
   },
   "file_extension": ".py",
   "mimetype": "text/x-python",
   "name": "python",
   "nbconvert_exporter": "python",
   "pygments_lexer": "ipython3",
   "version": "3.11.4"
  },
  "vscode": {
   "interpreter": {
    "hash": "aa82987a71ca0339a52998cd22613b0c002bda8349fa32a0cb67ceec3936a2bf"
   }
  }
 },
 "nbformat": 4,
 "nbformat_minor": 2
}
